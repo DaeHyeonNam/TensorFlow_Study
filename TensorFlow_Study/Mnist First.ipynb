{
 "cells": [
  {
   "cell_type": "code",
   "execution_count": null,
   "metadata": {},
   "outputs": [
    {
     "name": "stdout",
     "output_type": "stream",
     "text": [
      "Extracting /tmp/data/train-images-idx3-ubyte.gz\n",
      "Extracting /tmp/data/train-labels-idx1-ubyte.gz\n",
      "Extracting /tmp/data/t10k-images-idx3-ubyte.gz\n",
      "Extracting /tmp/data/t10k-labels-idx1-ubyte.gz\n"
     ]
    }
   ],
   "source": [
    "import tensorflow as tf\n",
    "import numpy as np\n",
    "\n",
    "from tensorflow.examples.tutorials.mnist import input_data\n",
    "mnist = input_data.read_data_sets(\"/tmp/data/\", one_hot=True)\n",
    "\n",
    "x= tf.placeholder(tf.float32, shape= [None,784])\n",
    "y= tf.placeholder(tf.float32, shape= [None,10])\n",
    "\n",
    "W= tf.Variable(tf.zeros(shape=[784,10]))\n",
    "b= tf.Variable(tf.zeros(shape=[10]))\n",
    "logits= tf.matmul(x,W)+b\n",
    "y_pred= tf.nn.softmax(logits)\n",
    "\n",
    "loss= tf.reduce_mean(-tf.reduce_sum(y*tf.log(y_pred), reduction_indices=[1]))\n",
    "optimizer= tf.train.GradientDescentOptimizer(0.5)\n",
    "train_step= optimizer.minimize(loss);\n",
    "\n",
    "sess=tf.Session()\n",
    "sess.run(tf.global_variables_initializer())\n",
    "\n",
    "for i in range(1000):\n",
    "    batch_xs, batch_ys = mnist.train.next_batch(100)\n",
    "    sess.run(train_step, feed_dict={x:batch_xs, y:batch_ys})\n",
    "correct_prediction = tf.equal(tf.argmax(y_pred,1), tf.argmax(y,1))\n",
    "correction = tf.reduce_mean(tf.cast(correct_prediction, tf.float32))\n",
    "accuracy= sess.run(correction, feed_dict={x:mnist.test.images, y:mnist.test.labels})\n",
    "print(\"Accuracy: {}\".format(accuracy))\n",
    "data=sess.run(W)\n",
    "np.save('Learned_W.npy',data)\n",
    "data=sess.run(b)\n",
    "np.save('Learned_b.npy',data)"
   ]
  },
  {
   "cell_type": "code",
   "execution_count": null,
   "metadata": {},
   "outputs": [],
   "source": [
    "pr"
   ]
  }
 ],
 "metadata": {
  "kernelspec": {
   "display_name": "Python [default]",
   "language": "python",
   "name": "python3"
  },
  "language_info": {
   "codemirror_mode": {
    "name": "ipython",
    "version": 3
   },
   "file_extension": ".py",
   "mimetype": "text/x-python",
   "name": "python",
   "nbconvert_exporter": "python",
   "pygments_lexer": "ipython3",
   "version": "3.5.6"
  }
 },
 "nbformat": 4,
 "nbformat_minor": 2
}
