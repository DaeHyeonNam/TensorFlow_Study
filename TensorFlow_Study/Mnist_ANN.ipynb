{
 "cells": [
  {
   "cell_type": "code",
   "execution_count": 6,
   "metadata": {},
   "outputs": [
    {
     "name": "stdout",
     "output_type": "stream",
     "text": [
      "Extracting /tmp/data/train-images-idx3-ubyte.gz\n",
      "Extracting /tmp/data/train-labels-idx1-ubyte.gz\n",
      "Extracting /tmp/data/t10k-images-idx3-ubyte.gz\n",
      "Extracting /tmp/data/t10k-labels-idx1-ubyte.gz\n"
     ]
    }
   ],
   "source": [
    "import tensorflow as tf\n",
    "\n",
    "from tensorflow.examples.tutorials.mnist import input_data\n",
    "\n",
    "mnist = input_data.read_data_sets(\"/tmp/data/\",one_hot=True)\n",
    "\n",
    "learning_rate = 0.001\n",
    "num_epochs = 30\n",
    "batch_size =256\n",
    "display_step = 1\n",
    "input_size = 784\n",
    "hidden1_size = 256\n",
    "hidden2_size = 256\n",
    "hidden3_size = 256\n",
    "output_size = 10\n",
    "\n",
    "x = tf.placeholder(tf.float32, shape=[None, input_size])\n",
    "y = tf.placeholder(tf.float32, shape=[None, output_size])\n",
    "\n",
    "#def build_ANN(x):\n",
    "W1 = tf.Variable(tf.random_normal(shape=[input_size,hidden1_size]))\n",
    "b1 = tf.Variable(tf.random_normal(shape=[hidden1_size]))\n",
    "model1 = (tf.matmul(x,W1) +b1)\n",
    "    \n",
    "W2 = tf.Variable(tf.random_normal(shape=[hidden1_size,hidden2_size]))\n",
    "b2 = tf.Variable(tf.random_normal(shape=[hidden2_size]))\n",
    "model2 = (tf.matmul(model1,W2) +b2)\n",
    "    \n",
    "W_output = tf.Variable(tf.random_normal(shape=[hidden2_size, output_size]))\n",
    "b_output = tf.Variable(tf.random_normal(shape=[output_size]))\n",
    "logits = tf.matmul(model2,W_output)+ b_output\n",
    "    \n",
    "    #return logits\n",
    "\n",
    "predicted_value = logits #build_ANN(x)"
   ]
  },
  {
   "cell_type": "code",
   "execution_count": 7,
   "metadata": {},
   "outputs": [],
   "source": [
    "loss = tf.reduce_mean(tf.nn.softmax_cross_entropy_with_logits_v2(logits=predicted_value, labels= y))"
   ]
  },
  {
   "cell_type": "code",
   "execution_count": 8,
   "metadata": {},
   "outputs": [],
   "source": [
    "optimizer = tf.train.AdamOptimizer(learning_rate = learning_rate)"
   ]
  },
  {
   "cell_type": "code",
   "execution_count": 9,
   "metadata": {},
   "outputs": [],
   "source": [
    "train_step = optimizer.minimize(loss)"
   ]
  },
  {
   "cell_type": "code",
   "execution_count": null,
   "metadata": {},
   "outputs": [
    {
     "name": "stdout",
     "output_type": "stream",
     "text": [
      "Epoch : 1, Average_loss : 492.29326611813013\n",
      "[[ 0.44063997  0.25638565  1.412926   ...  1.4245992  -0.3449392\n",
      "  -0.66966826]\n",
      " [ 0.9484339  -0.8297523   0.314179   ...  1.1989824  -0.8705796\n",
      "   0.5995461 ]\n",
      " [ 1.7732686  -0.07383624 -0.585959   ...  0.50326115 -1.450908\n",
      "  -1.005566  ]\n",
      " ...\n",
      " [ 1.1366954  -0.24333964  0.37323263 ...  1.4598755  -0.03303916\n",
      "  -0.46410188]\n",
      " [-0.63023514 -0.7947747  -0.83821225 ...  1.1760796  -0.68715066\n",
      "  -0.30231893]\n",
      " [ 1.3889953  -1.1094111  -1.3985538  ... -1.8011703   0.19986273\n",
      "  -0.3071717 ]]\n"
     ]
    }
   ],
   "source": [
    "with tf.Session() as sess:\n",
    "    sess.run(tf.global_variables_initializer())\n",
    "    \n",
    "    num_batch = int(mnist.train.num_examples/batch_size)\n",
    "    \n",
    "    for epoch in range(num_epochs):\n",
    "        average_loss = 0\n",
    "        \n",
    "        for i in range(num_batch):\n",
    "            batch_xs, batch_ys = mnist.train.next_batch(batch_size)\n",
    "            _,current_loss = sess.run([train_step,loss], feed_dict={x:batch_xs, y:batch_ys})\n",
    "            \n",
    "            average_loss+= current_loss/num_batch\n",
    "        if epoch%display_step == 0 :\n",
    "            print(\"Epoch : {}, Average_loss : {}\".format(epoch+1, average_loss))\n",
    "            print(sess.run(W1))\n",
    "        \n",
    "\n",
    "    correct_prediction = tf.equal(tf.argmax(predicted_value, 1), tf.argmax(y,1))\n",
    "    accuracy =tf.reduce_mean(tf.cast(correct_prediction, \"float\"))\n",
    "    print(\"accuracy: %f\" %(accuracy.eval(feed_dict={x:mnist.test.images , y: mnist.test.labels})))"
   ]
  },
  {
   "cell_type": "code",
   "execution_count": null,
   "metadata": {},
   "outputs": [],
   "source": []
  },
  {
   "cell_type": "code",
   "execution_count": null,
   "metadata": {},
   "outputs": [],
   "source": []
  }
 ],
 "metadata": {
  "kernelspec": {
   "display_name": "Python [default]",
   "language": "python",
   "name": "python3"
  },
  "language_info": {
   "codemirror_mode": {
    "name": "ipython",
    "version": 3
   },
   "file_extension": ".py",
   "mimetype": "text/x-python",
   "name": "python",
   "nbconvert_exporter": "python",
   "pygments_lexer": "ipython3",
   "version": "3.5.6"
  }
 },
 "nbformat": 4,
 "nbformat_minor": 2
}
